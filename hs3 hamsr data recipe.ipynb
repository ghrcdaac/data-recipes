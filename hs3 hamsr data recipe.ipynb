{
 "cells": [
  {
   "cell_type": "code",
   "execution_count": null,
   "metadata": {
    "collapsed": true
   },
   "outputs": [],
   "source": [
    "########################################################\n",
    "#\n",
    "#\tHAMSR Data receipe\n",
    "#\t\tGenerate Data receipe  for \n",
    "#\t\tHAMSR\n",
    "#\n",
    "#\tAuthor: Manil Maskey\n",
    "#\tDate:\tFeb 22, 2017\n",
    "#\tInformation and Technology Systems Center (ITSC)\n",
    "#       University of Alabama in Huntsville\n",
    "#\n",
    "#\n",
    "########################################################"
   ]
  },
  {
   "cell_type": "code",
   "execution_count": null,
   "metadata": {
    "collapsed": true
   },
   "outputs": [],
   "source": [
    "import pydap\n",
    "from pydap.client import open_url\n"
   ]
  },
  {
   "cell_type": "markdown",
   "metadata": {
    "canopy_exercise": {
     "cell_type": "<None>"
    }
   },
   "source": [
    "# Open data stream using OPeNDAP link to file and look for data fields"
   ]
  },
  {
   "cell_type": "code",
   "execution_count": null,
   "metadata": {
    "collapsed": true
   },
   "outputs": [],
   "source": [
    "datafile = open_url('https://ghrc.nsstc.nasa.gov/opendap/fieldCampaigns/hs3/HAMSR/data/2013/HAMSR_L2_20130915T061329_20130916T050512_v01.nc')\n",
    "print datafile.keys()"
   ]
  },
  {
   "cell_type": "markdown",
   "metadata": {},
   "source": [
    "# Let's plot the ham_dBz field"
   ]
  },
  {
   "cell_type": "code",
   "execution_count": null,
   "metadata": {
    "collapsed": true
   },
   "outputs": [],
   "source": [
    "#Import needed Python packages\n",
    "import matplotlib.pyplot as plt\n",
    "import numpy as np\n",
    "from mpl_toolkits.basemap import Basemap\n",
    "from scipy import ndimage\n",
    "from datetime import datetime"
   ]
  },
  {
   "cell_type": "markdown",
   "metadata": {},
   "source": [
    "# Define the start and end date/time along the flight track"
   ]
  },
  {
   "cell_type": "code",
   "execution_count": null,
   "metadata": {
    "collapsed": false,
    "scrolled": true
   },
   "outputs": [],
   "source": [
    "#Enter date and time in MMDDYYYYThh:mm:ssUTC\n",
    "start_string = \"9/15/2013T20:00:00UTC\"\n",
    "end_string = \"9/15/2013T21:00:00UTC\"\n",
    "\n",
    "datetime_format = \"%Y-%m-%d %H:%M:%S\"\n",
    "unit_string = datafile['time'].units.replace(\"seconds since \", \"\").replace(\".0\", \"\")\n",
    "reference_time = datetime.strptime(unit_string, datetime_format)\n",
    "\n",
    "#Converts defined start/end time to data file time units\n",
    "Format = \"%m/%d/%YT%H:%M:%S%Z\"\n",
    "datatime_start = datetime.strptime(start_string, Format)\n",
    "datatime_end = datetime.strptime(end_string, Format)\n",
    "start_diff = datatime_start - reference_time\n",
    "end_diff = datatime_end - reference_time\n",
    "start_value = float(start_diff.total_seconds())\n",
    "end_value = float(end_diff.total_seconds())\n",
    "subset_array = np.where((datafile['time'][:] >= start_value) & (datafile['time'][:] <= end_value))\n",
    "\n",
    "start_at = np.min(subset_array)\n",
    "end_at = np.max(subset_array)\n",
    "\n",
    "#print \"start at:\" + str(start_at)\n",
    "#print \"end at:\" + str(end_at)\n"
   ]
  },
  {
   "cell_type": "markdown",
   "metadata": {},
   "source": [
    "# Define the variables for cross-track length and the lat/lon subset of the data for the desired variable"
   ]
  },
  {
   "cell_type": "code",
   "execution_count": null,
   "metadata": {
    "collapsed": true
   },
   "outputs": [],
   "source": [
    "#Set 'length of cross track' as dim_cross_track_length\n",
    "dim_cross_track_length = 42\n",
    "width = 1\n",
    "\n",
    "#Get 'hamsr_dbZ' variable as var_ham_dBz\n",
    "var_ham_dBz = datafile['ham_dBz'][0,start_at:end_at,:]\n",
    "\n",
    "#Get 'latitude' variable as var_lat\n",
    "var_lat = datafile['lat'][start_at:end_at,:]\n",
    "\n",
    "#Get 'longitude' variable as var_lon\n",
    "var_lon = datafile['lon'][start_at:end_at,:]\n",
    "\n",
    "#Get latitudes and longitudes for range\n",
    "lats = np.sort(np.unique(np.round(var_lat,3)))\n",
    "lons = np.sort(np.unique(np.round(var_lon,3)))\n",
    "\n",
    "#Define plotting variable\n",
    "img = np.zeros((lons.size,lats.size))\n",
    "\n",
    "#Compute pixel values for plot\n",
    "for at in range(0, end_at - start_at):\n",
    "\tfor ct in range(0, dim_cross_track_length):\n",
    "\t\tindex_lat = lats.size - np.searchsorted(lats, var_lat[at,ct])\n",
    "\t\tindex_lon = np.searchsorted(lons, var_lon[at,ct])\n",
    "\t\t\n",
    "\t\tif(index_lat >=0 and index_lat < lats.size and index_lon >=0 and index_lon < lons.size):\n",
    "\t\t\timg[index_lon,index_lat] = var_ham_dBz[0,at,ct]; #If error occurs try var_ham_dBz[at,ct]\n",
    "\n",
    "#Define maximum latitude and longitude bounds\t\t\n",
    "max_lat = np.max(lats)*0.001\n",
    "min_lat = np.min(lats)*0.001\n",
    "max_lon = np.max(lons)*0.001\n",
    "min_lon = np.min(lons)*0.001\n"
   ]
  },
  {
   "cell_type": "markdown",
   "metadata": {},
   "source": [
    "# Create plot of HAMSR data"
   ]
  },
  {
   "cell_type": "code",
   "execution_count": null,
   "metadata": {
    "collapsed": false
   },
   "outputs": [],
   "source": [
    "#Plot geographic boundaries, parallels, and meridians\n",
    "m = Basemap(projection='merc', llcrnrlon=(min_lon) , llcrnrlat=(min_lat) , urcrnrlon=(max_lon), urcrnrlat=(max_lat ), resolution='c')\n",
    "m.drawcoastlines()\n",
    "m.drawstates()\n",
    "m.fillcontinents(color='coral',lake_color='aqua')\n",
    "parallels = np.arange(min_lat,max_lat ,1)\n",
    "m.drawparallels(parallels,labels=[1,0,0,1])\n",
    "meridians = np.arange(min_lon , max_lon ,1)\n",
    "m.drawmeridians(meridians,labels=[1,0,0,1])\n",
    "\n",
    "#Set plot dimensions\n",
    "x0,y0 = m(min_lon, min_lat)\n",
    "x1,y1 = m(max_lon, max_lat)\n",
    "img = ndimage.filters.gaussian_filter(img,12)\n",
    "\n",
    "#Create and format plot\n",
    "plt.title('HAMSR Reflectivity', fontsize=20)\n",
    "\n",
    "plt.imshow(img, extent=(x0,x1,y0,y1), vmax=50, vmin=0); #change vmax to alter HAMSR reflectivity(dBZ) color mapping\n",
    "\n",
    "#Format plot color bar and axis labels\n",
    "cbar = plt.colorbar()\n",
    "cbar.set_label('Reflectivity ($dBZ$)', rotation=270, labelpad =25, fontsize =14)\n",
    "\n",
    "plt.xlabel(\"Longitude\", labelpad =30, fontsize =14)\n",
    "plt.ylabel(\"Latitude\", labelpad =80, fontsize =14)\n",
    "plt.show();\n"
   ]
  },
  {
   "cell_type": "markdown",
   "metadata": {
    "collapsed": true
   },
   "source": [
    "\n"
   ]
  }
 ],
 "metadata": {
  "kernelspec": {
   "display_name": "Python 2",
   "language": "python",
   "name": "python2"
  },
  "language_info": {
   "codemirror_mode": {
    "name": "ipython",
    "version": 2
   },
   "file_extension": ".py",
   "mimetype": "text/x-python",
   "name": "python",
   "nbconvert_exporter": "python",
   "pygments_lexer": "ipython2",
   "version": "2.7.11"
  }
 },
 "nbformat": 4,
 "nbformat_minor": 0
}
